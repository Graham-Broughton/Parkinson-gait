{
 "cells": [
  {
   "attachments": {},
   "cell_type": "markdown",
   "metadata": {},
   "source": [
    "# Imports"
   ]
  },
  {
   "cell_type": "code",
   "execution_count": 3,
   "metadata": {},
   "outputs": [],
   "source": [
    "import pandas as pd\n",
    "import numpy as np\n",
    "import matplotlib.pyplot as plt\n",
    "import seaborn as sns\n",
    "%matplotlib inline\n",
    "\n",
    "import sys\n",
    "import os\n",
    "from random import choice\n",
    "import gc\n",
    "\n",
    "import warnings; warnings.filterwarnings('ignore')\n",
    "\n",
    "from cycler import cycler\n",
    "from colorama import Style, Fore\n",
    "from IPython.display import display\n",
    "\n",
    "import duckdb\n",
    "\n",
    "sys.path.append('..')\n",
    "\n",
    "from config import CFG\n",
    "from src.visuals.dataframe_styling import magnify, stylize_describe, stylize_simple\n",
    "from src.visuals.plotting import plot_time_series, plot_count\n",
    "\n",
    "CFG = CFG()\n",
    "\n",
    "pd.options.display.float_format = '{:,.2f}'.format\n",
    "pd.set_option('display.max_columns', CFG.NCOLS)\n",
    "pd.set_option('display.max_rows', CFG.NROWS)\n"
   ]
  },
  {
   "cell_type": "markdown",
   "metadata": {},
   "source": [
    "# Visuals Configurations"
   ]
  },
  {
   "cell_type": "code",
   "execution_count": 4,
   "metadata": {},
   "outputs": [
    {
     "data": {
      "text/html": [
       "<svg  width=\"275\" height=\"55\"><rect x=\"0\" y=\"0\" width=\"55\" height=\"55\" style=\"fill:#3c3744;stroke-width:2;stroke:rgb(255,255,255)\"/><rect x=\"55\" y=\"0\" width=\"55\" height=\"55\" style=\"fill:#048ba8;stroke-width:2;stroke:rgb(255,255,255)\"/><rect x=\"110\" y=\"0\" width=\"55\" height=\"55\" style=\"fill:#ee6352;stroke-width:2;stroke:rgb(255,255,255)\"/><rect x=\"165\" y=\"0\" width=\"55\" height=\"55\" style=\"fill:#e1bb80;stroke-width:2;stroke:rgb(255,255,255)\"/><rect x=\"220\" y=\"0\" width=\"55\" height=\"55\" style=\"fill:#78bc61;stroke-width:2;stroke:rgb(255,255,255)\"/></svg>"
      ],
      "text/plain": [
       "[(0.23529411764705882, 0.21568627450980393, 0.26666666666666666),\n",
       " (0.01568627450980392, 0.5450980392156862, 0.6588235294117647),\n",
       " (0.9333333333333333, 0.38823529411764707, 0.3215686274509804),\n",
       " (0.8823529411764706, 0.7333333333333333, 0.5019607843137255),\n",
       " (0.47058823529411764, 0.7372549019607844, 0.3803921568627451)]"
      ]
     },
     "metadata": {},
     "output_type": "display_data"
    },
    {
     "data": {
      "text/html": [
       "<svg  width=\"330\" height=\"55\"><rect x=\"0\" y=\"0\" width=\"55\" height=\"55\" style=\"fill:#8e8e93;stroke-width:2;stroke:rgb(255,255,255)\"/><rect x=\"55\" y=\"0\" width=\"55\" height=\"55\" style=\"fill:#636366;stroke-width:2;stroke:rgb(255,255,255)\"/><rect x=\"110\" y=\"0\" width=\"55\" height=\"55\" style=\"fill:#48484a;stroke-width:2;stroke:rgb(255,255,255)\"/><rect x=\"165\" y=\"0\" width=\"55\" height=\"55\" style=\"fill:#3a3a3c;stroke-width:2;stroke:rgb(255,255,255)\"/><rect x=\"220\" y=\"0\" width=\"55\" height=\"55\" style=\"fill:#2c2c2e;stroke-width:2;stroke:rgb(255,255,255)\"/><rect x=\"275\" y=\"0\" width=\"55\" height=\"55\" style=\"fill:#1c1c27;stroke-width:2;stroke:rgb(255,255,255)\"/></svg>"
      ],
      "text/plain": [
       "[(0.5568627450980392, 0.5568627450980392, 0.5764705882352941),\n",
       " (0.38823529411764707, 0.38823529411764707, 0.4),\n",
       " (0.2823529411764706, 0.2823529411764706, 0.2901960784313726),\n",
       " (0.22745098039215686, 0.22745098039215686, 0.23529411764705882),\n",
       " (0.17254901960784313, 0.17254901960784313, 0.1803921568627451),\n",
       " (0.10980392156862745, 0.10980392156862745, 0.15294117647058825)]"
      ]
     },
     "metadata": {},
     "output_type": "display_data"
    },
    {
     "data": {
      "text/html": [
       "<svg  width=\"110\" height=\"55\"><rect x=\"0\" y=\"0\" width=\"55\" height=\"55\" style=\"fill:#f6f5f5;stroke-width:2;stroke:rgb(255,255,255)\"/><rect x=\"55\" y=\"0\" width=\"55\" height=\"55\" style=\"fill:#d1d1d6;stroke-width:2;stroke:rgb(255,255,255)\"/></svg>"
      ],
      "text/plain": [
       "[(0.9647058823529412, 0.9607843137254902, 0.9607843137254902),\n",
       " (0.8196078431372549, 0.8196078431372549, 0.8392156862745098)]"
      ]
     },
     "metadata": {},
     "output_type": "display_data"
    }
   ],
   "source": [
    "red = Style.BRIGHT + Fore.RED\n",
    "blu = Style.BRIGHT + Fore.BLUE\n",
    "mgt = Style.BRIGHT + Fore.MAGENTA\n",
    "grn = Style.BRIGHT + Fore.GREEN\n",
    "gld = Style.BRIGHT + Fore.YELLOW\n",
    "res = Style.RESET_ALL\n",
    "\n",
    "palette = ['#3c3744', '#048BA8', '#EE6352', '#E1BB80', '#78BC61']\n",
    "grey_palette = ['#8e8e93', '#636366', '#48484a', '#3a3a3c', '#2c2c2e', '#1c1c27']\n",
    "bg_color = '#F6F5F5'\n",
    "white_color = '#d1d1d6'\n",
    "\n",
    "custom_params = {\n",
    "    'axes.spines.right': False,\n",
    "    'axes.spines.top': False,\n",
    "    'axes.spines.left': False,\n",
    "    'grid.alpha':0.2,\n",
    "    'figure.figsize': (16, 6),\n",
    "    'axes.titlesize': 'large',\n",
    "    'axes.labelsize': 'large',\n",
    "    'ytick.labelsize': 'medium',\n",
    "    'xtick.labelsize': 'medium',\n",
    "    'legend.fontsize': 'large',\n",
    "    'lines.linewidth': 1,\n",
    "    'axes.prop_cycle': cycler('color',palette),\n",
    "    'figure.facecolor': bg_color,\n",
    "    'figure.edgecolor': bg_color,\n",
    "    'axes.facecolor': bg_color,\n",
    "    'text.color':grey_palette[1],\n",
    "    'axes.labelcolor':grey_palette[1],\n",
    "    'axes.edgecolor':grey_palette[1],\n",
    "    'xtick.color':grey_palette[1],\n",
    "    'ytick.color':grey_palette[1],\n",
    "    'figure.dpi':150,\n",
    "}\n",
    "sns.set_theme(\n",
    "    style='whitegrid',\n",
    "    palette=sns.color_palette(palette),\n",
    "    rc=custom_params)\n",
    "\n",
    "display(sns.color_palette(palette))\n",
    "display(sns.color_palette(grey_palette))\n",
    "display(sns.color_palette([bg_color, white_color]))"
   ]
  },
  {
   "cell_type": "code",
   "execution_count": 6,
   "metadata": {},
   "outputs": [
    {
     "name": "stdout",
     "output_type": "stream",
     "text": [
      "The sql extension is already loaded. To reload it, use:\n",
      "  %reload_ext sql\n"
     ]
    }
   ],
   "source": [
    "%load_ext sql\n",
    "%config SqlMagic.autopandas = True\n",
    "%config SqlMagic.feedback = False\n",
    "%config SqlMagic.displaycon = False\n",
    "\n",
    "%sql duckdb:///../data/train/train.db"
   ]
  },
  {
   "cell_type": "code",
   "execution_count": null,
   "metadata": {},
   "outputs": [],
   "source": []
  }
 ],
 "metadata": {
  "kernelspec": {
   "display_name": "kaggle",
   "language": "python",
   "name": "python3"
  },
  "language_info": {
   "codemirror_mode": {
    "name": "ipython",
    "version": 3
   },
   "file_extension": ".py",
   "mimetype": "text/x-python",
   "name": "python",
   "nbconvert_exporter": "python",
   "pygments_lexer": "ipython3",
   "version": "3.11.0"
  },
  "orig_nbformat": 4
 },
 "nbformat": 4,
 "nbformat_minor": 2
}
